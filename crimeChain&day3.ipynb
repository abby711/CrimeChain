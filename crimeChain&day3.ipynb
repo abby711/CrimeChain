{
  "nbformat": 4,
  "nbformat_minor": 0,
  "metadata": {
    "colab": {
      "name": "crimeChain&day3.ipynb",
      "provenance": []
    },
    "kernelspec": {
      "name": "python3",
      "display_name": "Python 3"
    },
    "language_info": {
      "name": "python"
    }
  },
  "cells": [
    {
      "cell_type": "markdown",
      "metadata": {
        "id": "ks6ia-PRkf6f"
      },
      "source": [
        "##                   Revision\n",
        "\n",
        "jehoj3@gmail.com\n"
      ]
    },
    {
      "cell_type": "code",
      "metadata": {
        "id": "dO31k7vYx_30"
      },
      "source": [
        "import hashlib\n",
        "class blockChain:\n",
        "  def __init__(self,preBlockHash,data):\n",
        "    self.preBlockHash=preBlockHash\n",
        "    self.blockData=data\n",
        "    self.blockData+=preBlockHash\n",
        "    self.blockHash=hashlib.sha256(self.blockData.encode()).hexdigest()"
      ],
      "execution_count": null,
      "outputs": []
    },
    {
      "cell_type": "code",
      "metadata": {
        "id": "K9o9Nxc3yC7I"
      },
      "source": [
        "block1=blockChain(\"Genesis\",\"data1\")     #genesis block"
      ],
      "execution_count": null,
      "outputs": []
    },
    {
      "cell_type": "code",
      "metadata": {
        "colab": {
          "base_uri": "https://localhost:8080/",
          "height": 53
        },
        "id": "blEEpWIWyxw1",
        "outputId": "e02103ae-84f2-4926-bb48-7af3524b609e"
      },
      "source": [
        "print(block1.blockHash)         #genesis block hash value\n",
        "block1.blockData                #genesis block data"
      ],
      "execution_count": null,
      "outputs": [
        {
          "output_type": "stream",
          "name": "stdout",
          "text": [
            "5ce798f8f65c7927e5860beb86b427fa751ff92da7faf657524156a905d5b1b8\n"
          ]
        },
        {
          "output_type": "execute_result",
          "data": {
            "application/vnd.google.colaboratory.intrinsic+json": {
              "type": "string"
            },
            "text/plain": [
              "'data1Genesis'"
            ]
          },
          "metadata": {},
          "execution_count": 7
        }
      ]
    },
    {
      "cell_type": "code",
      "metadata": {
        "colab": {
          "base_uri": "https://localhost:8080/",
          "height": 36
        },
        "id": "S1k8TIocy0Y1",
        "outputId": "d8a24031-911e-4b5e-fcd2-e87a5974b6ee"
      },
      "source": [
        "block2=blockChain(block1.blockHash,\"data2\")\n",
        "block2.blockHash"
      ],
      "execution_count": null,
      "outputs": [
        {
          "output_type": "execute_result",
          "data": {
            "application/vnd.google.colaboratory.intrinsic+json": {
              "type": "string"
            },
            "text/plain": [
              "'90e45f0c15779eb1affc90bf717e63032a1a3896e3470fd3ebf309a2b909b906'"
            ]
          },
          "metadata": {},
          "execution_count": 8
        }
      ]
    },
    {
      "cell_type": "code",
      "metadata": {
        "colab": {
          "base_uri": "https://localhost:8080/",
          "height": 275
        },
        "id": "7kL3Y1FnzIfr",
        "outputId": "c79f2d8a-8ef6-4670-d359-09f67d0b2e22"
      },
      "source": [
        "block3=blockChain(block2.blockHash,[\"data3A\",\"data3B\"])    #cannot store data in the form of list,dict etc into the block as encode() doesnot work\n",
        "block3.blockData"
      ],
      "execution_count": null,
      "outputs": [
        {
          "output_type": "error",
          "ename": "AttributeError",
          "evalue": "ignored",
          "traceback": [
            "\u001b[0;31m---------------------------------------------------------------------------\u001b[0m",
            "\u001b[0;31mAttributeError\u001b[0m                            Traceback (most recent call last)",
            "\u001b[0;32m<ipython-input-9-00e97d18321e>\u001b[0m in \u001b[0;36m<module>\u001b[0;34m()\u001b[0m\n\u001b[0;32m----> 1\u001b[0;31m \u001b[0mblock3\u001b[0m\u001b[0;34m=\u001b[0m\u001b[0mblockChain\u001b[0m\u001b[0;34m(\u001b[0m\u001b[0mblock2\u001b[0m\u001b[0;34m.\u001b[0m\u001b[0mblockHash\u001b[0m\u001b[0;34m,\u001b[0m\u001b[0;34m[\u001b[0m\u001b[0;34m\"data3A\"\u001b[0m\u001b[0;34m,\u001b[0m\u001b[0;34m\"data3B\"\u001b[0m\u001b[0;34m]\u001b[0m\u001b[0;34m)\u001b[0m    \u001b[0;31m#cannot store data in the form of list,dict etc into the block as encode() doesnot work\u001b[0m\u001b[0;34m\u001b[0m\u001b[0;34m\u001b[0m\u001b[0m\n\u001b[0m\u001b[1;32m      2\u001b[0m \u001b[0mblock3\u001b[0m\u001b[0;34m.\u001b[0m\u001b[0mblockData\u001b[0m\u001b[0;34m\u001b[0m\u001b[0;34m\u001b[0m\u001b[0m\n",
            "\u001b[0;32m<ipython-input-5-ddde18cf8659>\u001b[0m in \u001b[0;36m__init__\u001b[0;34m(self, preBlockHash, data)\u001b[0m\n\u001b[1;32m      5\u001b[0m     \u001b[0mself\u001b[0m\u001b[0;34m.\u001b[0m\u001b[0mblockData\u001b[0m\u001b[0;34m=\u001b[0m\u001b[0mdata\u001b[0m\u001b[0;34m\u001b[0m\u001b[0;34m\u001b[0m\u001b[0m\n\u001b[1;32m      6\u001b[0m     \u001b[0mself\u001b[0m\u001b[0;34m.\u001b[0m\u001b[0mblockData\u001b[0m\u001b[0;34m+=\u001b[0m\u001b[0mpreBlockHash\u001b[0m\u001b[0;34m\u001b[0m\u001b[0;34m\u001b[0m\u001b[0m\n\u001b[0;32m----> 7\u001b[0;31m     \u001b[0mself\u001b[0m\u001b[0;34m.\u001b[0m\u001b[0mblockHash\u001b[0m\u001b[0;34m=\u001b[0m\u001b[0mhashlib\u001b[0m\u001b[0;34m.\u001b[0m\u001b[0msha256\u001b[0m\u001b[0;34m(\u001b[0m\u001b[0mself\u001b[0m\u001b[0;34m.\u001b[0m\u001b[0mblockData\u001b[0m\u001b[0;34m.\u001b[0m\u001b[0mencode\u001b[0m\u001b[0;34m(\u001b[0m\u001b[0;34m)\u001b[0m\u001b[0;34m)\u001b[0m\u001b[0;34m.\u001b[0m\u001b[0mhexdigest\u001b[0m\u001b[0;34m(\u001b[0m\u001b[0;34m)\u001b[0m\u001b[0;34m\u001b[0m\u001b[0;34m\u001b[0m\u001b[0m\n\u001b[0m",
            "\u001b[0;31mAttributeError\u001b[0m: 'list' object has no attribute 'encode'"
          ]
        }
      ]
    },
    {
      "cell_type": "code",
      "metadata": {
        "colab": {
          "base_uri": "https://localhost:8080/",
          "height": 36
        },
        "id": "fTUj0Yd2zU7V",
        "outputId": "01184438-f09e-40f0-c208-cd23dd36163b"
      },
      "source": [
        "#Function to create blocks\n",
        "def createBlocks(preBlockHash,data):\n",
        "    block=blockChain(preBlockHash,data)\n",
        "    return block\n",
        "\n",
        "block3=createBlocks(block2.blockHash,\"Data 3\")\n",
        "block3.blockHash"
      ],
      "execution_count": null,
      "outputs": [
        {
          "output_type": "execute_result",
          "data": {
            "application/vnd.google.colaboratory.intrinsic+json": {
              "type": "string"
            },
            "text/plain": [
              "'481a7685102d2b2109f09351e60be1bb754562b1752dbc02d0d9202b1d532984'"
            ]
          },
          "metadata": {},
          "execution_count": 10
        }
      ]
    },
    {
      "cell_type": "code",
      "metadata": {
        "colab": {
          "base_uri": "https://localhost:8080/"
        },
        "id": "JKzSgTmq4NKj",
        "outputId": "0d66f832-eceb-4b0c-dc50-71bd59b7727a"
      },
      "source": [
        "#to append date and time to the hashValue of the block\n",
        "from datetime import datetime\n",
        "hashDT=[]\n",
        "def appendDateAndTime(blockHash,dt):\n",
        "  hashDT.append([blockHash,dt])\n",
        "\n",
        "dt=datetime.now()\n",
        "appendDateAndTime(block1.blockHash,dt)\n",
        "print(hashDT)\n",
        "\n"
      ],
      "execution_count": null,
      "outputs": [
        {
          "output_type": "stream",
          "name": "stdout",
          "text": [
            "[['5ce798f8f65c7927e5860beb86b427fa751ff92da7faf657524156a905d5b1b8', datetime.datetime(2021, 10, 28, 8, 30, 23, 733369)]]\n"
          ]
        }
      ]
    },
    {
      "cell_type": "markdown",
      "metadata": {
        "id": "iPpkkILWlXFD"
      },
      "source": [
        "#### Day 3- to construct a blockchain for police records\n",
        "\n",
        "1.   To create and constuct a structure to store the data\n",
        "2.   To develop multiple linear chains to the genesis block as per the type of crime reported.\n",
        "3. To store the hashValues along with respective timesStamps\n",
        "\n",
        "\n",
        "\n",
        "\n"
      ]
    },
    {
      "cell_type": "code",
      "metadata": {
        "id": "9Qb5s76x5RQ5"
      },
      "source": [
        "import hashlib\n",
        "from datetime import datetime\n",
        "import json"
      ],
      "execution_count": null,
      "outputs": []
    },
    {
      "cell_type": "code",
      "metadata": {
        "id": "w-B52GKh6aeg"
      },
      "source": [
        "#to define and obtain inputs to create a dataset for police cases to be stored in blockchain\n",
        "idCount=0\n",
        "\n",
        "class data:\n",
        "  def storeData(self):\n",
        "    global idCount\n",
        "    idCount+=1\n",
        "    self.blockData={}\n",
        "    self.blockData[\"caseId\"]=idCount\n",
        "    self.blockData[\"caseName\"]=input(\"Enter case name: \")\n",
        "    self.blockData[\"caseComplaintant\"]=input(\"Enter Complaintant Name : \")\n",
        "    self.blockData[\"caseIncharge\"]=input(\"Enter Case Incharge Name : \")\n",
        "    print(\"Enter Place and Time of Occurance  \")\n",
        "    self.blockData[\"caseOccur\"]={}\n",
        "    self.blockData[\"caseOccur\"][\"date\"]=input(\"Enter Date of Occurance : \")\n",
        "    self.blockData[\"caseOccur\"][\"time\"]=input(\"Enter Time of Occurance : \")\n",
        "    print(\"Enter Place and Time of REporting the crime  \")\n",
        "    self.blockData[\"caseReport\"]={}\n",
        "\n",
        "    self.blockData[\"caseReport\"][\"date\"]=input(\"Enter Date of REporting : \")\n",
        "    self.blockData[\"caseReport\"][\"time\"]=input(\"Enter Time of REporting : \")\n",
        "    \n",
        "    self.blockData[\"caseSuspect\"]=input(\"Enter Suspect name: \")\n",
        "    self.blockData[\"caseRepStation\"]=input(\"Enter reporting Station Name : \")\n",
        "    self.blockData[\"caseJursStation\"]=input(\"Enter Station Name under Jurisdiction : \")\n",
        "    self.blockData[\"caseInfoType\"]=input(\"Enter Type of Information(WItness/Oral): \")\n",
        "    self.blockData[\"caseWitness\"]=input(\"Enter Witness name if any: \")\n",
        "    self.blockData[\"caseType\"]=input(\"Enter type of violation: \")\n",
        "    self.blockData[\"sections\"]={}\n",
        "    secCount=1\n",
        "    self.blockData[\"sections\"][\"sectionId\"]=secCount\n",
        "    self.blockData[\"sections\"][\"sectionRule\"]=input(\"Enter Section Rule: \")\n",
        "    self.blockData[\"sections\"][\"sectionNumber\"]=input(\"Enter Section NUmber: \")\n",
        "    print()\n",
        "    return self.blockData\n",
        "    \n",
        "\n",
        "\n",
        "\n"
      ],
      "execution_count": null,
      "outputs": []
    },
    {
      "cell_type": "code",
      "metadata": {
        "colab": {
          "base_uri": "https://localhost:8080/"
        },
        "id": "iI-Rs2W49Uvx",
        "outputId": "cd1a1da4-e81b-4fd9-a2d9-ae2164bcd239"
      },
      "source": [
        "#To create multiple records of the dataset\n",
        "datas=data()\n",
        "genesis=datas.storeData()      #genesis block data\n",
        "records=[]\n",
        "records.append(genesis)   \n",
        "\n",
        "for i in range(6):\n",
        "  print(\"............Enter the case details...........\")\n",
        "  d=datas.storeData()\n",
        "  records.append(d)"
      ],
      "execution_count": null,
      "outputs": [
        {
          "output_type": "stream",
          "name": "stdout",
          "text": [
            "Enter case name: case 1\n",
            "Enter Complaintant Name : Abby\n",
            "Enter Case Incharge Name : Kishan\n",
            "Enter Place and Time of Occurance  \n",
            "Enter Date of Occurance : 28 October 2021\n",
            "Enter Time of Occurance : 2pm\n",
            "Enter Place and Time of REporting the crime  \n",
            "Enter Date of REporting : 28 Oct 2021\n",
            "Enter Time of REporting : 3pm\n",
            "Enter Suspect name: nil\n",
            "Enter reporting Station Name : Tambaram\n",
            "Enter Station Name under Jurisdiction : Tambaram\n",
            "Enter Type of Information(WItness/Oral): Oral\n",
            "Enter Witness name if any: nil\n",
            "Enter type of violation: Theft\n",
            "Enter Section Rule: Theft penal Act 1986\n",
            "Enter Section NUmber: Act 123\n",
            "\n",
            "............Enter the case details...........\n",
            "Enter case name: Case 2\n",
            "Enter Complaintant Name : Sharon\n",
            "Enter Case Incharge Name : Kishan\n",
            "Enter Place and Time of Occurance  \n",
            "Enter Date of Occurance : 6 pm\n",
            "Enter Time of Occurance : 6 pm\n",
            "Enter Place and Time of REporting the crime  \n",
            "Enter Date of REporting : 23 Jan 2021\n",
            "Enter Time of REporting : 8 pm\n",
            "Enter Suspect name: Steven\n",
            "Enter reporting Station Name : Adayar\n",
            "Enter Station Name under Jurisdiction : Adayar\n",
            "Enter Type of Information(WItness/Oral): Witness\n",
            "Enter Witness name if any: Abby\n",
            "Enter type of violation: Domestic Violence\n",
            "Enter Section Rule: Domestic Violence Sec 1988\n",
            "Enter Section NUmber: Act 456\n",
            "\n",
            "............Enter the case details...........\n",
            "Enter case name: Antony\n",
            "Enter Complaintant Name : Antony\n",
            "Enter Case Incharge Name : Kishan\n",
            "Enter Place and Time of Occurance  \n",
            "Enter Date of Occurance : 10 October 2021\n",
            "Enter Time of Occurance : 10 am\n",
            "Enter Place and Time of REporting the crime  \n",
            "Enter Date of REporting : 10 October 2021\n",
            "Enter Time of REporting : 12 pm\n",
            "Enter Suspect name: nil\n",
            "Enter reporting Station Name : Tambaram\n",
            "Enter Station Name under Jurisdiction : Tambaram\n",
            "Enter Type of Information(WItness/Oral): Oral\n",
            "Enter Witness name if any: nil\n",
            "Enter type of violation: Traffic\n",
            "Enter Section Rule: Indian Traffic Violation Act of 2000\n",
            "Enter Section NUmber: Act 901\n",
            "\n",
            "............Enter the case details...........\n",
            "Enter case name: Case 4\n",
            "Enter Complaintant Name : Noora\n",
            "Enter Case Incharge Name : Kishan\n",
            "Enter Place and Time of Occurance  \n",
            "Enter Date of Occurance : 15 October 2021\n",
            "Enter Time of Occurance : 9 pm\n",
            "Enter Place and Time of REporting the crime  \n",
            "Enter Date of REporting : 15 October 2021\n",
            "Enter Time of REporting : 11 pm\n",
            "Enter Suspect name: William\n",
            "Enter reporting Station Name : Thiruvanmyur\n",
            "Enter Station Name under Jurisdiction : Thiruvanmyur\n",
            "Enter Type of Information(WItness/Oral): Oral\n",
            "Enter Witness name if any: Arora\n",
            "Enter type of violation: Domestic Violation\n",
            "Enter Section Rule: Domestic Violence Sec 1988\n",
            "Enter Section NUmber: Act 456\n",
            "\n",
            "............Enter the case details...........\n",
            "Enter case name: Case 5\n",
            "Enter Complaintant Name : Mark Steven\n",
            "Enter Case Incharge Name : Kishan\n",
            "Enter Place and Time of Occurance  \n",
            "Enter Date of Occurance : 9 October 2021\n",
            "Enter Time of Occurance : 3 pm\n",
            "Enter Place and Time of REporting the crime  \n",
            "Enter Date of REporting : 10 October 2021\n",
            "Enter Time of REporting : 10 am\n",
            "Enter Suspect name: nil\n",
            "Enter reporting Station Name : RA Puram\n",
            "Enter Station Name under Jurisdiction : RA Puram\n",
            "Enter Type of Information(WItness/Oral): Oral\n",
            "Enter Witness name if any: nil\n",
            "Enter type of violation: Traffic\n",
            "Enter Section Rule: Indian Traffic Violation Act of 2000\n",
            "Enter Section NUmber: Act 752\n",
            "\n",
            "............Enter the case details...........\n",
            "Enter case name: Case 6\n",
            "Enter Complaintant Name : Meera\n",
            "Enter Case Incharge Name : Kishan\n",
            "Enter Place and Time of Occurance  \n",
            "Enter Date of Occurance : 10 October 2021\n",
            "Enter Time of Occurance : 2 pm\n",
            "Enter Place and Time of REporting the crime  \n",
            "Enter Date of REporting : 10 October 2021\n",
            "Enter Time of REporting : 5 pm\n",
            "Enter Suspect name: Shahid\n",
            "Enter reporting Station Name : Egmore\n",
            "Enter Station Name under Jurisdiction : Egmore\n",
            "Enter Type of Information(WItness/Oral): Witness\n",
            "Enter Witness name if any: Kareena\n",
            "Enter type of violation: Domestic Violence\n",
            "Enter Section Rule: Domestic Violence Sec 1988\n",
            "Enter Section NUmber: Act 908\n",
            "\n",
            "............Enter the case details...........\n",
            "Enter case name: Case  7\n",
            "Enter Complaintant Name : Xyz\n",
            "Enter Case Incharge Name : Kishan\n",
            "Enter Place and Time of Occurance  \n",
            "Enter Date of Occurance : 12 Jan 2021\n",
            "Enter Time of Occurance : 1 pm\n",
            "Enter Place and Time of REporting the crime  \n",
            "Enter Date of REporting : 12 Jan 2021\n",
            "Enter Time of REporting : 2 pm\n",
            "Enter Suspect name: nil\n",
            "Enter reporting Station Name : Adayar\n",
            "Enter Station Name under Jurisdiction : Adayar\n",
            "Enter Type of Information(WItness/Oral): Oral\n",
            "Enter Witness name if any: nil\n",
            "Enter type of violation: Traffic\n",
            "Enter Section Rule: Traffic Penal \n",
            "Enter Section NUmber: Act 234\n",
            "\n"
          ]
        }
      ]
    },
    {
      "cell_type": "code",
      "metadata": {
        "colab": {
          "base_uri": "https://localhost:8080/"
        },
        "id": "JteGppJiXyUb",
        "outputId": "eeae5999-8567-4232-aa9e-1b2d85486056"
      },
      "source": [
        "#tO DISPLAY THE CREATED DATABASE \n",
        "for i in records:\n",
        "  print(i)\n",
        "records[0][\"caseId\"]=\"Root\"\n",
        "records[0][\"caseName\"]=\"Root\"\n",
        "\n",
        "records[0][\"caseComplaintant\"]=\"Root\"\n",
        "records[0][\"caseOccur\"][\"date\"]=\"Root\"\n",
        "records[0][\"caseOccur\"][\"time\"]=\"Root\"\n",
        "\n",
        "records[0][\"caseReport\"][\"date\"]=\"Root\"\n",
        "records[0][\"caseReport\"][\"time\"]=\"Root\"\n",
        "records[0][\"caseSuspect\"]=\"Root\"\n",
        "records[0][\"caseRepStation\"]=\"Root\"\n",
        "records[0][\"caseJursStation\"]=\"Root\"\n",
        "records[0][\"caseInfoType\"]=\"Root\"\n",
        "records[0][\"caseJursStation\"]=\"Root\"\n",
        "records[0][\"caseInfoType\"]=\"Root\"\n",
        "records[0][\"sections\"][\"sectionId\"]=\"Root\"\n",
        "\n",
        "records[0][\"sections\"][\"sectionRule\"]=\"Root\"\n",
        "records[0][\"sections\"][\"sectionNumber\"]=\"Root\"\n",
        "\n",
        "print()\n",
        "for i in records:\n",
        "  print(i)\n",
        "\n",
        "\n",
        "\n",
        "\n",
        "\n"
      ],
      "execution_count": null,
      "outputs": [
        {
          "output_type": "stream",
          "name": "stdout",
          "text": [
            "{'caseId': 1, 'caseName': 'case 1', 'caseComplaintant': 'Root', 'caseIncharge': 'Kishan', 'caseOccur': {'date': 'Root', 'time': 'Root'}, 'caseReport': {'date': 'Root', 'time': 'Root'}, 'caseSuspect': 'Root', 'caseRepStation': 'Root', 'caseJursStation': 'Root', 'caseInfoType': 'Root', 'caseWitness': 'nil', 'caseType': 'Theft', 'sections': {'sectionId': 'Root', 'sectionRule': 'Root', 'sectionNumber': 'Root'}, 'CaseId': 'Root'}\n",
            "{'caseId': 2, 'caseName': 'Case 2', 'caseComplaintant': 'Sharon', 'caseIncharge': 'Kishan', 'caseOccur': {'date': '6 pm', 'time': '6 pm'}, 'caseReport': {'date': '23 Jan 2021', 'time': '8 pm'}, 'caseSuspect': 'Steven', 'caseRepStation': 'Adayar', 'caseJursStation': 'Adayar', 'caseInfoType': 'Witness', 'caseWitness': 'Abby', 'caseType': 'Domestic Violence', 'sections': {'sectionId': 1, 'sectionRule': 'Domestic Violence Sec 1988', 'sectionNumber': 'Act 456'}}\n",
            "{'caseId': 3, 'caseName': 'Antony', 'caseComplaintant': 'Antony', 'caseIncharge': 'Kishan', 'caseOccur': {'date': '10 October 2021', 'time': '10 am'}, 'caseReport': {'date': '10 October 2021', 'time': '12 pm'}, 'caseSuspect': 'nil', 'caseRepStation': 'Tambaram', 'caseJursStation': 'Tambaram', 'caseInfoType': 'Oral', 'caseWitness': 'nil', 'caseType': 'Traffic', 'sections': {'sectionId': 1, 'sectionRule': 'Indian Traffic Violation Act of 2000', 'sectionNumber': 'Act 901'}}\n",
            "{'caseId': 4, 'caseName': 'Case 4', 'caseComplaintant': 'Noora', 'caseIncharge': 'Kishan', 'caseOccur': {'date': '15 October 2021', 'time': '9 pm'}, 'caseReport': {'date': '15 October 2021', 'time': '11 pm'}, 'caseSuspect': 'William', 'caseRepStation': 'Thiruvanmyur', 'caseJursStation': 'Thiruvanmyur', 'caseInfoType': 'Oral', 'caseWitness': 'Arora', 'caseType': 'Domestic Violation', 'sections': {'sectionId': 1, 'sectionRule': 'Domestic Violence Sec 1988', 'sectionNumber': 'Act 456'}}\n",
            "{'caseId': 5, 'caseName': 'Case 5', 'caseComplaintant': 'Mark Steven', 'caseIncharge': 'Kishan', 'caseOccur': {'date': '9 October 2021', 'time': '3 pm'}, 'caseReport': {'date': '10 October 2021', 'time': '10 am'}, 'caseSuspect': 'nil', 'caseRepStation': 'RA Puram', 'caseJursStation': 'RA Puram', 'caseInfoType': 'Oral', 'caseWitness': 'nil', 'caseType': 'Traffic', 'sections': {'sectionId': 1, 'sectionRule': 'Indian Traffic Violation Act of 2000', 'sectionNumber': 'Act 752'}}\n",
            "{'caseId': 6, 'caseName': 'Case 6', 'caseComplaintant': 'Meera', 'caseIncharge': 'Kishan', 'caseOccur': {'date': '10 October 2021', 'time': '2 pm'}, 'caseReport': {'date': '10 October 2021', 'time': '5 pm'}, 'caseSuspect': 'Shahid', 'caseRepStation': 'Egmore', 'caseJursStation': 'Egmore', 'caseInfoType': 'Witness', 'caseWitness': 'Kareena', 'caseType': 'Domestic Violence', 'sections': {'sectionId': 1, 'sectionRule': 'Domestic Violence Sec 1988', 'sectionNumber': 'Act 908'}}\n",
            "{'caseId': 7, 'caseName': 'Case  7', 'caseComplaintant': 'Xyz', 'caseIncharge': 'Kishan', 'caseOccur': {'date': '12 Jan 2021', 'time': '1 pm'}, 'caseReport': {'date': '12 Jan 2021', 'time': '2 pm'}, 'caseSuspect': 'nil', 'caseRepStation': 'Adayar', 'caseJursStation': 'Adayar', 'caseInfoType': 'Oral', 'caseWitness': 'nil', 'caseType': 'Traffic', 'sections': {'sectionId': 1, 'sectionRule': 'Traffic Penal ', 'sectionNumber': 'Act 234'}}\n",
            "\n",
            "{'caseId': 'Root', 'caseName': 'Root', 'caseComplaintant': 'Root', 'caseIncharge': 'Kishan', 'caseOccur': {'date': 'Root', 'time': 'Root'}, 'caseReport': {'date': 'Root', 'time': 'Root'}, 'caseSuspect': 'Root', 'caseRepStation': 'Root', 'caseJursStation': 'Root', 'caseInfoType': 'Root', 'caseWitness': 'nil', 'caseType': 'Theft', 'sections': {'sectionId': 'Root', 'sectionRule': 'Root', 'sectionNumber': 'Root'}, 'CaseId': 'Root'}\n",
            "{'caseId': 2, 'caseName': 'Case 2', 'caseComplaintant': 'Sharon', 'caseIncharge': 'Kishan', 'caseOccur': {'date': '6 pm', 'time': '6 pm'}, 'caseReport': {'date': '23 Jan 2021', 'time': '8 pm'}, 'caseSuspect': 'Steven', 'caseRepStation': 'Adayar', 'caseJursStation': 'Adayar', 'caseInfoType': 'Witness', 'caseWitness': 'Abby', 'caseType': 'Domestic Violence', 'sections': {'sectionId': 1, 'sectionRule': 'Domestic Violence Sec 1988', 'sectionNumber': 'Act 456'}}\n",
            "{'caseId': 3, 'caseName': 'Antony', 'caseComplaintant': 'Antony', 'caseIncharge': 'Kishan', 'caseOccur': {'date': '10 October 2021', 'time': '10 am'}, 'caseReport': {'date': '10 October 2021', 'time': '12 pm'}, 'caseSuspect': 'nil', 'caseRepStation': 'Tambaram', 'caseJursStation': 'Tambaram', 'caseInfoType': 'Oral', 'caseWitness': 'nil', 'caseType': 'Traffic', 'sections': {'sectionId': 1, 'sectionRule': 'Indian Traffic Violation Act of 2000', 'sectionNumber': 'Act 901'}}\n",
            "{'caseId': 4, 'caseName': 'Case 4', 'caseComplaintant': 'Noora', 'caseIncharge': 'Kishan', 'caseOccur': {'date': '15 October 2021', 'time': '9 pm'}, 'caseReport': {'date': '15 October 2021', 'time': '11 pm'}, 'caseSuspect': 'William', 'caseRepStation': 'Thiruvanmyur', 'caseJursStation': 'Thiruvanmyur', 'caseInfoType': 'Oral', 'caseWitness': 'Arora', 'caseType': 'Domestic Violation', 'sections': {'sectionId': 1, 'sectionRule': 'Domestic Violence Sec 1988', 'sectionNumber': 'Act 456'}}\n",
            "{'caseId': 5, 'caseName': 'Case 5', 'caseComplaintant': 'Mark Steven', 'caseIncharge': 'Kishan', 'caseOccur': {'date': '9 October 2021', 'time': '3 pm'}, 'caseReport': {'date': '10 October 2021', 'time': '10 am'}, 'caseSuspect': 'nil', 'caseRepStation': 'RA Puram', 'caseJursStation': 'RA Puram', 'caseInfoType': 'Oral', 'caseWitness': 'nil', 'caseType': 'Traffic', 'sections': {'sectionId': 1, 'sectionRule': 'Indian Traffic Violation Act of 2000', 'sectionNumber': 'Act 752'}}\n",
            "{'caseId': 6, 'caseName': 'Case 6', 'caseComplaintant': 'Meera', 'caseIncharge': 'Kishan', 'caseOccur': {'date': '10 October 2021', 'time': '2 pm'}, 'caseReport': {'date': '10 October 2021', 'time': '5 pm'}, 'caseSuspect': 'Shahid', 'caseRepStation': 'Egmore', 'caseJursStation': 'Egmore', 'caseInfoType': 'Witness', 'caseWitness': 'Kareena', 'caseType': 'Domestic Violence', 'sections': {'sectionId': 1, 'sectionRule': 'Domestic Violence Sec 1988', 'sectionNumber': 'Act 908'}}\n",
            "{'caseId': 7, 'caseName': 'Case  7', 'caseComplaintant': 'Xyz', 'caseIncharge': 'Kishan', 'caseOccur': {'date': '12 Jan 2021', 'time': '1 pm'}, 'caseReport': {'date': '12 Jan 2021', 'time': '2 pm'}, 'caseSuspect': 'nil', 'caseRepStation': 'Adayar', 'caseJursStation': 'Adayar', 'caseInfoType': 'Oral', 'caseWitness': 'nil', 'caseType': 'Traffic', 'sections': {'sectionId': 1, 'sectionRule': 'Traffic Penal ', 'sectionNumber': 'Act 234'}}\n"
          ]
        }
      ]
    },
    {
      "cell_type": "code",
      "metadata": {
        "colab": {
          "base_uri": "https://localhost:8080/"
        },
        "id": "lvgXyMQSPMIc",
        "outputId": "b11b3e39-dadd-44cc-cede-a1149ecc8244"
      },
      "source": [
        "#initiating the blockchain by begining with genesis block\n",
        "gData = json.dumps(records[0])\n",
        "genesis=blockChain(\"genesis\",gData)\n",
        "print(\"Genesis Block Hash Code\",genesis.blockHash)\n",
        "\n",
        "#to create linear chains of blocks\n",
        "typeOfCrime={}\n",
        "typeOfCrime[\"Theft\"]=[]\n",
        "typeOfCrime[\"DV\"]=[]\n",
        "typeOfCrime[\"Traffic\"]=[]\n",
        "typeOfCrime[\"Theft\"].append(genesis.blockHash)\n",
        "typeOfCrime[\"DV\"].append(genesis.blockHash)\n",
        "typeOfCrime[\"Traffic\"].append(genesis.blockHash)\n",
        "\n",
        "blocks=[]\n",
        "index=[]    #to store the hashvalue of blocks along with the date and time (Index to render)\n",
        "\n",
        "#to add the blocks\n",
        "for i in records:\n",
        "  bDta=json.dumps(i)     #to convert data stored in dict to that of a string\n",
        "\n",
        "  now = datetime.now()\n",
        "  dt = now.strftime(\"%d/%m/%Y %H:%M:%S\")     #to convert to the conventional dd/mm/YY H:M:S format\n",
        "\n",
        "  if i[\"caseType\"]==\"Theft\":             \n",
        "    block=createBlocks( typeOfCrime[\"Theft\"] [ len(typeOfCrime[\"Theft\"]) -1 ],bDta)\n",
        "    blocks.append(block.blockHash)\n",
        "    typeOfCrime[\"Theft\"].append(block.blockHash)\n",
        "    index.append([block.blockHash,dt])\n",
        "\n",
        "  elif i[\"caseType\"]==\"Domestic Violence\":\n",
        "    \n",
        "    block=createBlocks(typeOfCrime[\"DV\"][len(typeOfCrime[\"DV\"])-1],bDta)\n",
        "    blocks.append(block.blockHash)\n",
        "    typeOfCrime[\"DV\"].append(block.blockHash)\n",
        "    index.append([block.blockHash,dt])\n",
        "\n",
        "\n",
        "\n",
        "  elif i[\"caseType\"]==\"Traffic\":\n",
        "    block=createBlocks(typeOfCrime[\"Traffic\"][len(typeOfCrime[\"Traffic\"])-1],bDta)\n",
        "    blocks.append(block.blockHash)\n",
        "    typeOfCrime[\"Traffic\"].append(block.blockHash)\n",
        "    index.append([block.blockHash,dt])\n",
        "\n",
        "\n",
        "#to display the hash values of the linear blockchains as per type of crime\n",
        "print(\"\\nHash Coldes of Blocks under the crime Traffic\")\n",
        "print(typeOfCrime[\"Traffic\"])\n",
        "print(\"\\nHash Coldes of Blocks under the crime Theft\")\n",
        "print(typeOfCrime[\"Theft\"])\n",
        "print(\"\\nHash Coldes of Blocks under the crime Domestic Violence\")\n",
        "print(typeOfCrime[\"DV\"])\n",
        "\n",
        "print(\"\\n\\n........Hash codes along with timestamp...........\")\n",
        "for record in index:\n",
        "  print(record)\n"
      ],
      "execution_count": null,
      "outputs": [
        {
          "output_type": "stream",
          "name": "stdout",
          "text": [
            "Genesis Block Hash Code 35b7f336933db841f6eb27a7936f46149d8f5b6959114c7394f8cc8fc7bf6e74\n",
            "\n",
            "Hash Coldes of Blocks under the crime Traffic\n",
            "['35b7f336933db841f6eb27a7936f46149d8f5b6959114c7394f8cc8fc7bf6e74', '39bc5be3742a4abf71c2395820ec285b5f14dca6303d77a68d1fea40b8b774f4', '1ec92cad5d99bf56a5ce49ea0885aec24daec50428e550d75640c16a8dcfcd17', 'dec2148658187db1beda6f316830021905bc1f3629af2f473ce7b7224d4d4391']\n",
            "\n",
            "Hash Coldes of Blocks under the crime Theft\n",
            "['35b7f336933db841f6eb27a7936f46149d8f5b6959114c7394f8cc8fc7bf6e74', '323f34587d95f4f37b1b8a3a906a5c93e1d045e4f9796260b1c047671dc3f1e6']\n",
            "\n",
            "Hash Coldes of Blocks under the crime Domestic Violence\n",
            "['35b7f336933db841f6eb27a7936f46149d8f5b6959114c7394f8cc8fc7bf6e74', '43221099aad7fe319b9b3ae1c0c16d31894f19c45c0849e537afe96e902f2a55', '811c4acdf20219caf8dab3168466c8897528f4bd0054aece8fede5d958417ec4']\n",
            "\n",
            "\n",
            "........Hash codes along with timestamp...........\n",
            "['323f34587d95f4f37b1b8a3a906a5c93e1d045e4f9796260b1c047671dc3f1e6', '28/10/2021 09:09:11']\n",
            "['43221099aad7fe319b9b3ae1c0c16d31894f19c45c0849e537afe96e902f2a55', '28/10/2021 09:09:11']\n",
            "['39bc5be3742a4abf71c2395820ec285b5f14dca6303d77a68d1fea40b8b774f4', '28/10/2021 09:09:11']\n",
            "['1ec92cad5d99bf56a5ce49ea0885aec24daec50428e550d75640c16a8dcfcd17', '28/10/2021 09:09:11']\n",
            "['811c4acdf20219caf8dab3168466c8897528f4bd0054aece8fede5d958417ec4', '28/10/2021 09:09:11']\n",
            "['dec2148658187db1beda6f316830021905bc1f3629af2f473ce7b7224d4d4391', '28/10/2021 09:09:11']\n"
          ]
        }
      ]
    }
  ]
}