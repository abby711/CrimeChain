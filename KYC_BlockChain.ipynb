{
  "nbformat": 4,
  "nbformat_minor": 0,
  "metadata": {
    "colab": {
      "name": "KYC-BlockChain.ipynb",
      "provenance": []
    },
    "kernelspec": {
      "name": "python3",
      "display_name": "Python 3"
    },
    "language_info": {
      "name": "python"
    }
  },
  "cells": [
    {
      "cell_type": "markdown",
      "metadata": {
        "id": "5fWasDH2ODha"
      },
      "source": [
        "**Blockchain: The Solution to Inefficient KYC Process**\n",
        " \n",
        " Verfication done by organizations,banks etc of a potential employee/customer can be implmented efficiently by means of through Blockchain where the customer data that includes all the personel,government details are held and stored as blocks in the blockchain architecture.\n",
        "\n",
        "\n",
        "\n",
        "\n",
        "\n",
        "\n",
        "\n",
        "---\n",
        "\n"
      ]
    },
    {
      "cell_type": "code",
      "metadata": {
        "id": "NiRZSxYhOCwz"
      },
      "source": [
        "import hashlib\n",
        "import json\n",
        "from datetime import datetime\n"
      ],
      "execution_count": 16,
      "outputs": []
    },
    {
      "cell_type": "code",
      "metadata": {
        "id": "IhSdpPVmOkJD"
      },
      "source": [
        "records=[]\n",
        "idCount=0\n",
        "def obtainRecords():                         #function to obtain records from the user\n",
        "    global idCount\n",
        "    idCount+=1\n",
        "    kycData={}\n",
        "    kycData[\"customerId\"]=idCount\n",
        "    kycData[\"customerName\"]={}\n",
        "    kycData[\"customerName\"][\"firstName\"]=input(\"Enter customer first name: \")\n",
        "    kycData[\"customerName\"][\"lastName\"]=input(\"Enter customer last name: \")\n",
        "\n",
        "    kycData[\"customerAge\"]=input(\"Enter Customer Age : \")\n",
        "    kycData[\"customerEmail\"]=input(\"Enter Customer Email ID : \")\n",
        "    print(\"Enter Address Details \")\n",
        "    kycData[\"customerAddress\"]={}\n",
        "    kycData[\"customerAddress\"][\"permanentAddress\"]=input(\"Enter Permanent Address : \")\n",
        "    kycData[\"customerAddress\"][\"currentAdress\"]=input(\"Enter Current Address : \")\n",
        "    \n",
        "    \n",
        "    kycData[\"customerGender\"]=input(\"Enter customer Gender : \")\n",
        "    kycData[\"customerPhNo\"]=input(\"Enter Customer Phone Number : \")\n",
        "    print(\"Enter the verification Ids of the customer \")\n",
        "    kycData[\"customerVerificationId\"]={}\n",
        "\n",
        "    kycData[\"customerVerificationId\"][\"aadhar\"]=input(\"Enter Aadhar Id: \")\n",
        "    kycData[\"customerVerificationId\"][\"pan\"]=input(\"Enter PAN Id : \")\n",
        "    kycData[\"customerVerificationId\"][\"passport\"]=input(\"Enter Passport Id : \")\n",
        "    kycData[\"customerVerificationId\"][\"VoterId\"]=input(\"Enter Voter Id : \")\n",
        "    print()\n",
        "    records.append(kycData)\n",
        "\n",
        "    \n",
        "    \n"
      ],
      "execution_count": 7,
      "outputs": []
    },
    {
      "cell_type": "code",
      "metadata": {
        "colab": {
          "base_uri": "https://localhost:8080/"
        },
        "id": "xdeTD0TSVgBa",
        "outputId": "4ec5d711-8544-4bb0-b45c-a7ee6b432cee"
      },
      "source": [
        "#to get n records from user\n",
        "obtainRecords() #to add genesis block to the chain                   \n",
        "for record in range (3):        #to add 3 records into the blockchain\n",
        "  print(\"..........Enter the details of Record \",record+1,\"..........\")\n",
        "  obtainRecords()\n",
        "\n",
        "print(records)  #to display as a single json entity"
      ],
      "execution_count": 8,
      "outputs": [
        {
          "output_type": "stream",
          "name": "stdout",
          "text": [
            "Enter customer first name: Root\n",
            "Enter customer last name: Root\n",
            "Enter Customer Age : Root\n",
            "Enter Customer Email ID : Root\n",
            "Enter Address Details \n",
            "Enter Permanent Address : Root\n",
            "Enter Current Address : Root\n",
            "Enter customer Gender : Root\n",
            "Enter Customer Phone Number : Root\n",
            "Enter the verification Ids of the customer \n",
            "Enter Aadhar Id: Root\n",
            "Enter PAN Id : Root\n",
            "Enter Passport Id : Root\n",
            "Enter Voter Id : Root\n",
            "\n",
            "..........Enter the details of Record  1 ..........\n",
            "Enter customer first name: Mark\n",
            "Enter customer last name: Steven\n",
            "Enter Customer Age : 45\n",
            "Enter Customer Email ID : marksteve@gmail.com\n",
            "Enter Address Details \n",
            "Enter Permanent Address : 45 Block A Red Yard Buildings Adayar\n",
            "Enter Current Address : 45 Block A Red Yard Buildings Adayar\n",
            "Enter customer Gender : Male\n",
            "Enter Customer Phone Number : 9846207618\n",
            "Enter the verification Ids of the customer \n",
            "Enter Aadhar Id: 716219760315\n",
            "Enter PAN Id : CWJP78462\n",
            "Enter Passport Id : 79423FGVH\n",
            "Enter Voter Id : FTJBC7893\n",
            "\n",
            "..........Enter the details of Record  2 ..........\n",
            "Enter customer first name: Abby\n",
            "Enter customer last name: Goldberg\n",
            "Enter Customer Age : 22\n",
            "Enter Customer Email ID : abby@gmail.com\n",
            "Enter Address Details \n",
            "Enter Permanent Address : 12 Block C Red Pane Apartments CA\n",
            "Enter Current Address : 12 Block C Red Pane Apartments CA\n",
            "Enter customer Gender : Female\n",
            "Enter Customer Phone Number : 7894203495\n",
            "Enter the verification Ids of the customer \n",
            "Enter Aadhar Id: 7451964820\n",
            "Enter PAN Id : QHCTW14803\n",
            "Enter Passport Id : QWBH75106P\n",
            "Enter Voter Id : YU35247GTX\n",
            "\n",
            "..........Enter the details of Record  3 ..........\n",
            "Enter customer first name: Angel\n",
            "Enter customer last name: Babulal\n",
            "Enter Customer Age : 30\n",
            "Enter Customer Email ID : angy@gmail.com\n",
            "Enter Address Details \n",
            "Enter Permanent Address : 289 Block 3 Queensland Building London\n",
            "Enter Current Address : 289 Block 3 Queensland Building London\n",
            "Enter customer Gender : Female\n",
            "Enter Customer Phone Number : 7894210684\n",
            "Enter the verification Ids of the customer \n",
            "Enter Aadhar Id: 7413259751\n",
            "Enter PAN Id : fgtqko0842\n",
            "Enter Passport Id : FCHY74138H\n",
            "Enter Voter Id : 74526KOPAC\n",
            "\n",
            "[{'customerId': 1, 'customerName': {'firstName': 'Root', 'lastName': 'Root'}, 'customerAge': 'Root', 'customerEmail': 'Root', 'customerAddress': {'permanentAddress': 'Root', 'currentAdress': 'Root'}, 'customerGender': 'Root', 'customerPhNo': 'Root', 'customerVerificationId': {'aadhar': 'Root', 'pan': 'Root', 'passport': 'Root', 'VoterId': 'Root'}}, {'customerId': 2, 'customerName': {'firstName': 'Mark', 'lastName': 'Steven'}, 'customerAge': '45', 'customerEmail': 'marksteve@gmail.com', 'customerAddress': {'permanentAddress': '45 Block A Red Yard Buildings Adayar', 'currentAdress': '45 Block A Red Yard Buildings Adayar'}, 'customerGender': 'Male', 'customerPhNo': '9846207618', 'customerVerificationId': {'aadhar': '716219760315', 'pan': 'CWJP78462', 'passport': '79423FGVH', 'VoterId': 'FTJBC7893'}}, {'customerId': 3, 'customerName': {'firstName': 'Abby', 'lastName': 'Goldberg'}, 'customerAge': '22', 'customerEmail': 'abby@gmail.com', 'customerAddress': {'permanentAddress': '12 Block C Red Pane Apartments CA', 'currentAdress': '12 Block C Red Pane Apartments CA'}, 'customerGender': 'Female', 'customerPhNo': '7894203495', 'customerVerificationId': {'aadhar': '7451964820', 'pan': 'QHCTW14803', 'passport': 'QWBH75106P', 'VoterId': 'YU35247GTX'}}, {'customerId': 4, 'customerName': {'firstName': 'Angel', 'lastName': 'Babulal'}, 'customerAge': '30', 'customerEmail': 'angy@gmail.com', 'customerAddress': {'permanentAddress': '289 Block 3 Queensland Building London', 'currentAdress': '289 Block 3 Queensland Building London'}, 'customerGender': 'Female', 'customerPhNo': '7894210684', 'customerVerificationId': {'aadhar': '7413259751', 'pan': 'fgtqko0842', 'passport': 'FCHY74138H', 'VoterId': '74526KOPAC'}}]\n"
          ]
        }
      ]
    },
    {
      "cell_type": "code",
      "metadata": {
        "id": "XMgveK2eWU7e"
      },
      "source": [
        "#class to add nodes to the blockchain\n",
        "class blockChain:\n",
        "  def __init__(self,preBlockHash,data):\n",
        "    self.preBlockHash=preBlockHash\n",
        "    self.blockData=preBlockHash\n",
        "    self.blockData+=\"-\"\n",
        "    self.blockData+=data\n",
        "    self.blockHash=hashlib.sha256(self.blockData.encode()).hexdigest()"
      ],
      "execution_count": 9,
      "outputs": []
    },
    {
      "cell_type": "code",
      "metadata": {
        "colab": {
          "base_uri": "https://localhost:8080/"
        },
        "id": "4h40SqKpYH4A",
        "outputId": "8dc4ca5e-0452-41a5-eaf4-1b64202301db"
      },
      "source": [
        "kycData = json.dumps(records[0])    #to convert data in the form of a dictionary to that of a string\n",
        "block=blockChain(\"genesis block\",kycData)\n",
        "hashValues=[]\n",
        "index=[]\n",
        "hashValues.append(block.blockHash)           #to append the hashValues of each block generated to a list\n",
        "print(\"\\n..........Genesis node is added to the chain..........\")\n",
        "\n",
        "for i in range(1,len(records)):                  #to add the kyc data obtained to the blockchain one after the another.\n",
        "  now = datetime.now()\n",
        "  dt = now.strftime(\"%d/%m/%Y %H:%M:%S\")     #to convert to the conventional dd/mm/YY H:M:S format\n",
        "\n",
        "  kycData = json.dumps(records[0])\n",
        "  block=blockChain(hashValues[-1],kycData)\n",
        "  hashValues.append(block.blockHash)\n",
        "  print(\"\\n..........Block \",i,\" added to the chain..........\")\n",
        "  index.append([block.blockHash,dt])\n",
        "\n",
        "\n",
        "\n",
        "print(\"\\n...........hashValues of the blocks in the chain along with the timestams are as follows........\")   #to display the generated hashvalues\n",
        "for i in index:\n",
        "  print(i)\n",
        "\n"
      ],
      "execution_count": 18,
      "outputs": [
        {
          "output_type": "stream",
          "name": "stdout",
          "text": [
            "\n",
            "..........Genesis node is added to the chain..........\n",
            "\n",
            "..........Block  1  added to the chain..........\n",
            "\n",
            "..........Block  2  added to the chain..........\n",
            "\n",
            "..........Block  3  added to the chain..........\n",
            "\n",
            "...........hashValues of the blocks in the chain along with the timestams are as follows........\n",
            "['7814aa891718d51c30849591772e4aa011fc13dbd273e9b56a79e113f4a03e8e', '30/10/2021 09:01:37']\n",
            "['c884561a925bb2eb47f54516849bddc9ff262a569b23225fad0f4807d7ddb794', '30/10/2021 09:01:37']\n",
            "['d1195636934a621b297252d212ba175518ee718c8c7657d7ad656eb25c8fccc4', '30/10/2021 09:01:37']\n"
          ]
        }
      ]
    },
    {
      "cell_type": "code",
      "metadata": {
        "id": "7JZ0CTehYTqK"
      },
      "source": [
        ""
      ],
      "execution_count": null,
      "outputs": []
    }
  ]
}